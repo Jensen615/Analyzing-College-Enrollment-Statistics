{
  "nbformat": 4,
  "nbformat_minor": 0,
  "metadata": {
    "colab": {
      "name": "college_analysis_w_pandas.ipynb",
      "version": "0.3.2",
      "provenance": [],
      "collapsed_sections": [],
      "include_colab_link": true
    },
    "kernelspec": {
      "name": "python3",
      "display_name": "Python 3"
    }
  },
  "cells": [
    {
      "cell_type": "markdown",
      "metadata": {
        "id": "view-in-github",
        "colab_type": "text"
      },
      "source": [
        "<a href=\"https://colab.research.google.com/github/Jensen615/Hello-World/blob/master/college_analysis_w_pandas.ipynb\" target=\"_parent\"><img src=\"https://colab.research.google.com/assets/colab-badge.svg\" alt=\"Open In Colab\"/></a>"
      ]
    },
    {
      "metadata": {
        "id": "9GrsiOFlU3mR",
        "colab_type": "text"
      },
      "cell_type": "markdown",
      "source": [
        "# Analyze college data, now with pandas\n",
        "\n",
        "_\\[in the previous epidode: [Analyze college data with numpy](http://goo.gl/jdhtjZ)\\]_  \n",
        "\n",
        "We'll take another look at [College Scorecard](https://collegescorecard.ed.gov/) data from 2017, this time using `pandas` instead of `numpy`. \n",
        "\n",
        "## Reminder: How to Colab\n",
        "Colab is an online IDE for IPython/Jupyter notebooks. It works roughly just like a regular Python program, except for the file is broken into clusters of code lines called cells. Instead of the normal program flow where lines are executed sequentially, cell-based notebooks allow you to only execute the lines in a specific cell. Press the 'play' triangle in the upper left corner of a cell to run it.\n",
        "\n",
        "You may run into an error if third-party cookies are disabled in your browser. You can enable third-party cookies in Chrome by visiting chrome://settings/content/cookies.\n",
        "\n",
        "**Before you proceed, make a copy of this Colab notebook in your Drive!**  \n",
        "In the upper left corner of the tab, go to File -> Save a copy in Drive... (-> log in if needed). A new tab should open with \"Copy of college_analysis_w_pandas.ipynb\". Feel free to rename it as you like.  \n"
      ]
    },
    {
      "metadata": {
        "id": "B6iOWRoV9L-y",
        "colab_type": "code",
        "colab": {}
      },
      "cell_type": "code",
      "source": [
        "# Fill in your name and press the play button to make sure Colab is all set up.\n",
        "name = '' # TODO: enter your name here!\n",
        "print(\"Hello \" + name + '!') "
      ],
      "execution_count": 0,
      "outputs": []
    },
    {
      "metadata": {
        "id": "g880LDRx9YKe",
        "colab_type": "text"
      },
      "cell_type": "markdown",
      "source": [
        "## Data Setup\n",
        "\n",
        "We will read the Scoreboard file from Google Drive, again. First, let's hook up Google Drive and make sure we can access its contents.  Run the cell below and follow promts to mount the Drive."
      ]
    },
    {
      "metadata": {
        "id": "nN8CNBEsVXgJ",
        "colab_type": "code",
        "colab": {}
      },
      "cell_type": "code",
      "source": [
        "# Load the Drive helper.\n",
        "from google.colab import drive\n",
        "\n",
        "# This will prompt for authorization. Follow the prompts.\n",
        "drive.mount('/content/drive')"
      ],
      "execution_count": 0,
      "outputs": []
    },
    {
      "metadata": {
        "id": "HBo9sDDSTbp1",
        "colab_type": "code",
        "colab": {}
      },
      "cell_type": "code",
      "source": [
        "# After executing the cell above, Drive\n",
        "# files will be present in \"/content/drive/My Drive\".\n",
        "# Try listing them (`ls` stands for \"list\")\n",
        "!ls \"/content/drive/My Drive/\""
      ],
      "execution_count": 0,
      "outputs": []
    },
    {
      "metadata": {
        "id": "t5TWpcbu-EEM",
        "colab_type": "text"
      },
      "cell_type": "markdown",
      "source": [
        "**If you downloaded the data for `numpy` analysis, you can skip these steps.** Otherwise, let's obtain the data.\n",
        "\n",
        "1.   Download the Scorecard data by following https://ed-public-download.app.cloud.gov/downloads/Most-Recent-Cohorts-Scorecard-Elements.csv.\n",
        "2.   Upload it to your Drive (drag and drop/whatever).\n",
        "3.   Move it from the base folder to a folder called \"mecps\".\n",
        "\n",
        "You should see your file after running the cell below.\n",
        "\n",
        "\n"
      ]
    },
    {
      "metadata": {
        "id": "teerGbxU96S0",
        "colab_type": "code",
        "colab": {}
      },
      "cell_type": "code",
      "source": [
        "!ls \"/content/drive/My Drive/mecps/Most-Recent-Cohorts-Scorecard-Elements.csv\""
      ],
      "execution_count": 0,
      "outputs": []
    },
    {
      "metadata": {
        "id": "KNXvFX2j_Ocq",
        "colab_type": "text"
      },
      "cell_type": "markdown",
      "source": [
        "Now let's load the data into a `pandas` `DataFrame`. As you may remeber, the dataset has ~124 columns, which is probably too many to look at. If you're curious to see what all the columns are, examine the downloaded .csv file in a spreadsheet program (e.g. Excel) or open it in Google Drive. We will only look at a subset of columns:\n",
        "\n",
        "**`INSTNM`**: Name of the college  \n",
        "**`STABBR`**: Two-letter state abbreviation (e.g. NY, CT, RI)  \n",
        "**`SATVRMID`**:   Median SAT verbal score   \n",
        "**`SATMTMID`**: Median SAT math score   \n",
        "**`UGDS`**: Number of undergraduate students  \n",
        "**`UGDS_*`**: Fractions of undergraduate enrollment by race/ethnicity  \n",
        "**`NPT4_PUB/PRIV`**: Yearly cost of attendance  \n",
        "**`PCTPELL`**: Percentage of students who receive a Pell Grant  \n",
        "**`MD_EARN_WNE_P10`**: Median yearly income of students 10 years after graduation  \n",
        "**`GRAD_DEBT_MDN_SUPP`**: Average debt upon program completion\n",
        "\n",
        "\n",
        "Read the following cell and try to understand how filtering happens, especially the list comprehension line. Then run the cell and examine the output.\n",
        "\n"
      ]
    },
    {
      "metadata": {
        "id": "A3nmZkhiJOP-",
        "colab_type": "code",
        "colab": {}
      },
      "cell_type": "code",
      "source": [
        "import pandas as pd\n",
        "\n",
        "colleges_csv = \"/content/drive/My Drive/mecps/Most-Recent-Cohorts-Scorecard-Elements.csv\"\n",
        "# Read the CSV file, using the fourth column (college name) as the index.\n",
        "colleges = pd.read_csv(colleges_csv, index_col=3, na_values='PrivacySuppressed')\n",
        "\n",
        "# There are still 124 columns, which is too much to handle. This function\n",
        "# decides which columns to keep.\n",
        "def keep_column(column_name):\n",
        "  if column_name in [\n",
        "      'INSTNM', 'STABBR', 'SATVRMID', 'SATMTMID', 'MD_EARN_WNE_P10', 'PCTPELL',\n",
        "  'GRAD_DEBT_MDN_SUPP']:\n",
        "    return True\n",
        "  if 'UGDS' in column_name:  # demographics\n",
        "    return True\n",
        "  if 'NPT4_' in column_name:  # public/private cost of attendance\n",
        "    return True\n",
        "  return False\n",
        " \n",
        "all_column_names = colleges.columns\n",
        "# Use list comprehension to filter out most of the columns.\n",
        "columns_to_use = [c for c in all_column_names if keep_column(c)]\n",
        "colleges = colleges[columns_to_use]\n",
        "\n",
        "# Print out the top 5 rows of the colleges table.\n",
        "colleges.head(n=5)  # Change the n to print out more rows if you want."
      ],
      "execution_count": 0,
      "outputs": []
    },
    {
      "metadata": {
        "id": "Suak9J9FBEFh",
        "colab_type": "text"
      },
      "cell_type": "markdown",
      "source": [
        "## Analyze\n",
        "\n",
        "Your time to shine! Manipulate the `colleges` variable to answer the following questions. Feel free to refer the [Dataquest pandas tutorial](https://www.dataquest.io/blog/pandas-tutorial-python/) or any other resource. "
      ]
    },
    {
      "metadata": {
        "id": "CEvbEEdR0HZz",
        "colab_type": "code",
        "colab": {}
      },
      "cell_type": "code",
      "source": [
        "# 1. Print the size of the `colleges` table. How many colleges do we have?\n"
      ],
      "execution_count": 0,
      "outputs": []
    },
    {
      "metadata": {
        "id": "bape-wbWChYb",
        "colab_type": "code",
        "colab": {}
      },
      "cell_type": "code",
      "source": [
        "# 2. Print out the 5th row using iloc.\n"
      ],
      "execution_count": 0,
      "outputs": []
    },
    {
      "metadata": {
        "id": "LWA8fjMVCzhP",
        "colab_type": "code",
        "colab": {}
      },
      "cell_type": "code",
      "source": [
        "# 3. Print out the row about CUNY Medgar Evers College using loc.\n"
      ],
      "execution_count": 0,
      "outputs": []
    },
    {
      "metadata": {
        "id": "02m8MHaeDF-p",
        "colab_type": "code",
        "colab": {}
      },
      "cell_type": "code",
      "source": [
        "# 4. Print out the average verbal SAT score (SATVRMID) across all colleges\n",
        "# (use mean()).\n"
      ],
      "execution_count": 0,
      "outputs": []
    },
    {
      "metadata": {
        "id": "LxVXT3KKDF2K",
        "colab_type": "code",
        "colab": {}
      },
      "cell_type": "code",
      "source": [
        "# 5. The total SAT score is roughly the sum of the verbal and math section \n",
        "# scores. Compute the total SAT score and store it in a column called 'SAT'.\n",
        "# Then compute the median total SAT.\n"
      ],
      "execution_count": 0,
      "outputs": []
    },
    {
      "metadata": {
        "id": "sL-DAYf6Dqrd",
        "colab_type": "code",
        "colab": {}
      },
      "cell_type": "code",
      "source": [
        "# 6. Students of what college graduate with the least debt?\n"
      ],
      "execution_count": 0,
      "outputs": []
    },
    {
      "metadata": {
        "id": "qiwxEfmWD-FU",
        "colab_type": "code",
        "colab": {}
      },
      "cell_type": "code",
      "source": [
        "# 7. Which college has the most students on Pell grants? Note: not the highest\n",
        "# percentage of Pell grant recipients, rather the absolute number of Pell grant\n",
        "# recipients."
      ],
      "execution_count": 0,
      "outputs": []
    },
    {
      "metadata": {
        "id": "woT2v2bFEVS2",
        "colab_type": "code",
        "colab": {}
      },
      "cell_type": "code",
      "source": [
        "# 8. What is the cheapest private school in KY with SAT score over 1100?"
      ],
      "execution_count": 0,
      "outputs": []
    },
    {
      "metadata": {
        "id": "rAHnGKcREn9m",
        "colab_type": "code",
        "colab": {}
      },
      "cell_type": "code",
      "source": [
        "# 9. a) Pose an interesting question that can be answered with this dataset.\n",
        "#    b) Answer your question."
      ],
      "execution_count": 0,
      "outputs": []
    },
    {
      "metadata": {
        "id": "xOrrEQ1sFFFP",
        "colab_type": "code",
        "colab": {}
      },
      "cell_type": "code",
      "source": [
        "# 10. Explore the data using plots! Here is an example:\n",
        "colleges.plot(x='SAT', y='MD_EARN_WNE_P10', kind='scatter')\n",
        "# Can you restrict this plot to colleges in New York state? \n",
        "# Look back at what columns are available. What other interesting plots \n",
        "# can you make?"
      ],
      "execution_count": 0,
      "outputs": []
    }
  ]
}